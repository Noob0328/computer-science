{
  "nbformat": 4,
  "nbformat_minor": 0,
  "metadata": {
    "colab": {
      "provenance": []
    },
    "kernelspec": {
      "name": "python3",
      "display_name": "Python 3"
    },
    "language_info": {
      "name": "python"
    }
  },
  "cells": [
    {
      "cell_type": "markdown",
      "source": [
        "### **Introduction to Conditional Statements**\n",
        "\n",
        "Conditional statements allow a program to evaluate specific conditions and make decisions based on those conditions. They introduce the concept of branching, where a program can follow different paths of execution based on certain criteria.\n",
        "\n",
        "---\n",
        "\n",
        "### **Understanding if, elif, and else Statements**\n",
        "\n",
        "**1. `if` Statement:**\n",
        "- The most basic type of conditional statement.\n",
        "- Evaluates a condition, and if it's `True`, the code inside the `if` block is executed.\n",
        "\n",
        "  **Example:**\n",
        "  ```python\n",
        "  age = 20\n",
        "  if age >= 18:\n",
        "      print(\"You are an adult!\")\n",
        "  ```\n",
        "\n",
        "**2. `elif` Statement:**\n",
        "- Short for \"else if\".\n",
        "- Used to check multiple conditions after the initial `if` condition.\n",
        "- The `elif` block is executed if its condition is `True`.\n",
        "\n",
        "  **Example:**\n",
        "  ```python\n",
        "  score = 85\n",
        "  if score >= 90:\n",
        "      grade = \"A\"\n",
        "  elif score >= 80:\n",
        "      grade = \"B\"\n",
        "  ```\n",
        "\n",
        "**3. `else` Statement:**\n",
        "- Catches anything which isn't caught by the preceding conditions.\n",
        "- Does not have a condition attached to it.\n",
        "\n",
        "  **Example:**\n",
        "  ```python\n",
        "  age = 15\n",
        "  if age >= 18:\n",
        "      print(\"You are an adult!\")\n",
        "  else:\n",
        "      print(\"You are a minor!\")\n",
        "  ```\n",
        "\n",
        "---\n",
        "\n",
        "### **Writing Conditions Using Comparison Operators**\n",
        "\n",
        "**1. `==`:** Checks if two values are equal.\n",
        "  - **Example:** `x == y`\n",
        "\n",
        "**2. `!=`:** Checks if two values are not equal.\n",
        "  - **Example:** `x != y`\n",
        "\n",
        "**3. `>`:** Checks if the value on the left is greater than the one on the right.\n",
        "  - **Example:** `x > y`\n",
        "\n",
        "**4. `<`:** Checks if the value on the left is less than the one on the right.\n",
        "  - **Example:** `x < y`\n",
        "\n",
        "**5. `>=`:** Checks if the value on the left is greater than or equal to the one on the right.\n",
        "  - **Example:** `x >= y`\n",
        "\n",
        "**6. `<=`:** Checks if the value on the left is less than or equal to the one on the right.\n",
        "  - **Example:** `x <= y`\n",
        "\n",
        "---\n"
      ],
      "metadata": {
        "id": "CjxdWcqxPhy0"
      }
    },
    {
      "cell_type": "markdown",
      "source": [
        "\n",
        "### **Practice Exercises:**\n",
        "\n",
        "1. **Weekday or Weekend:**\n",
        "    - Ask the user to input a day of the week (e.g., Monday, Tuesday, etc.).\n",
        "    - Inform them if the day is a weekday or a weekend.\n",
        "\n"
      ],
      "metadata": {
        "id": "Jim4Rsi7Pn0G"
      }
    },
    {
      "cell_type": "code",
      "source": [
        "day = input(\"Enter a day of the week: \")\n",
        "if day.lower() in [\"monday\", \"tuesday\", \"wednesday\", \"thursday\", \"friday\"]:\n",
        "  print(\"Weekday\")\n",
        "elif day.lower() in [\"saturday\", \"sunday\"]:\n",
        "  print(\"Weekend\")\n",
        "else:\n",
        "  print(\"??????????\")\n"
      ],
      "metadata": {
        "id": "TkrdpDJXRKeJ"
      },
      "execution_count": null,
      "outputs": []
    },
    {
      "cell_type": "markdown",
      "source": [
        "2. **Password Strength Checker:**\n",
        "    - Ask the user to input a password.\n",
        "    - Check if the password has at least 8 characters, starts with an uppercase letter, and ends with a number. Provide feedback on its strength.\n"
      ],
      "metadata": {
        "id": "1JPiLpsURKzz"
      }
    },
    {
      "cell_type": "code",
      "source": [
        "def check_password(password):\n",
        "\n",
        "  if len(password) < 8:\n",
        "    print(\"Password must be at least 8 characters long.\")\n",
        "    return False\n",
        "\n",
        "  if not password[0].isupper():\n",
        "    print(\"Password must start with an uppercase letter.\")\n",
        "    return False\n",
        "\n",
        "  if not password[-1].isdigit():\n",
        "    print(\"Password must end with a number.\")\n",
        "    return False\n",
        "\n",
        "  print(\"Password is strong.\")\n",
        "  return True\n",
        "\n",
        "password = input(\"Enter a password: \")\n",
        "\n",
        "check_password(password)\n"
      ],
      "metadata": {
        "id": "sHB4UhrHRMy5",
        "outputId": "63eb8b56-4489-40cc-ea6d-cba083a26609",
        "colab": {
          "base_uri": "https://localhost:8080/"
        }
      },
      "execution_count": 7,
      "outputs": [
        {
          "output_type": "stream",
          "name": "stdout",
          "text": [
            "Enter a password: Noogqwrtuq04398\n",
            "Password is strong.\n"
          ]
        },
        {
          "output_type": "execute_result",
          "data": {
            "text/plain": [
              "True"
            ]
          },
          "metadata": {},
          "execution_count": 7
        }
      ]
    },
    {
      "cell_type": "markdown",
      "source": [
        "3. **Movie Ticket Pricing:**\n",
        "    - Movie theaters often have different pricing depending on age groups.\n",
        "    - Children under 12: $5, Teens (12-17): $7, Adults (18-59): $10, Seniors (60+): $6.\n",
        "    - Ask the user for their age and tell them the cost of a movie ticket.\n"
      ],
      "metadata": {
        "id": "QABbfxrVRNfo"
      }
    },
    {
      "cell_type": "code",
      "source": [
        "age = int(input(\"Please enter your age: \"))\n",
        "if age < 12:\n",
        "  print(\"Your ticket costs $5.\")\n",
        "elif age < 18:\n",
        "  print(\"Your ticket costs $7.\")\n",
        "elif age < 60:\n",
        "  print(\"Your ticket costs $10.\")\n",
        "else:\n",
        "  print(\"Your ticket costs $6.\")"
      ],
      "metadata": {
        "id": "-i4B1AYyRPGp"
      },
      "execution_count": null,
      "outputs": []
    },
    {
      "cell_type": "markdown",
      "source": [
        "4. **Tax Calculator:**\n",
        "    - Depending on the amount of income, people are taxed at different rates.\n",
        "    - Income up to $10,000: No tax, Income $10,001-$50,000: 10% tax, Income $50,001 and above: 20% tax.\n",
        "    - Ask the user for their income and calculate the tax they owe.\n",
        "\n"
      ],
      "metadata": {
        "id": "4RMhCDsXRPTO"
      }
    },
    {
      "cell_type": "code",
      "source": [
        "income = int(input(\"Enter your income: \"))\n",
        "if income <= 10000:\n",
        "  tax = 0\n",
        "elif income <= 50000:\n",
        "  tax = income * 0.1\n",
        "else:\n",
        "  tax = income * 0.2\n",
        "print(\"You owe ${} in taxes.\".format(tax))"
      ],
      "metadata": {
        "id": "ijEDRr8FRSm0",
        "outputId": "87ec39ac-db52-4b55-85e2-db443271e746",
        "colab": {
          "base_uri": "https://localhost:8080/"
        }
      },
      "execution_count": 10,
      "outputs": [
        {
          "output_type": "stream",
          "name": "stdout",
          "text": [
            "Enter your income: 23456789\n",
            "You owe $4691357.8 in taxes.\n"
          ]
        }
      ]
    },
    {
      "cell_type": "markdown",
      "source": [
        "5. **Discount Eligibility:**\n",
        "    - A store offers a discount to students and senior citizens.\n",
        "    - Ask the user if they are a student or a senior citizen (yes or no for each). If they answer \"yes\" to either, inform them they are eligible for a discount.\n",
        "\n"
      ],
      "metadata": {
        "id": "qonCcp_PRTDL"
      }
    },
    {
      "cell_type": "code",
      "source": [
        "is_student = input(\"Are you a student? (yes/no) \")\n",
        "is_senior = input(\"Are you a senior citizen? (yes/no) \")\n",
        "if is_student == \"yes\" or is_senior == \"yes\":\n",
        "  print(\"You are eligible for a discount.\")\n",
        "else:\n",
        "  print(\"You are not eligible for a discount.\")"
      ],
      "metadata": {
        "id": "5YBnUfs-RUku",
        "outputId": "3358fb7e-f7a3-410c-98fc-9a5f9a541b6a",
        "colab": {
          "base_uri": "https://localhost:8080/"
        }
      },
      "execution_count": 11,
      "outputs": [
        {
          "output_type": "stream",
          "name": "stdout",
          "text": [
            "Are you a student? (yes/no) yes\n",
            "Are you a senior citizen? (yes/no) yes\n",
            "You are eligible for a discount.\n"
          ]
        }
      ]
    },
    {
      "cell_type": "markdown",
      "source": [
        "6. **Shipping Cost Calculator:**\n",
        "    - Shipping costs vary based on the weight of a package.\n",
        "    - Weight up to 1kg: $5, Weight 1.1kg-5kg: $10, Weight above 5kg: $20.\n",
        "    - Ask the user for the weight of their package and tell them the shipping cost.\n",
        "\n"
      ],
      "metadata": {
        "id": "vSf3pJOFRVGk"
      }
    },
    {
      "cell_type": "code",
      "source": [
        "weight = float(input(\"Enter the weight of your package in kg: \"))\n",
        "if weight <= 1:\n",
        "  shipping_cost = 5\n",
        "elif weight <= 5:\n",
        "  shipping_cost = 10\n",
        "else:\n",
        "  shipping_cost = 20\n",
        "print(\"The shipping cost for your package is ${}\".format(shipping_cost))\n"
      ],
      "metadata": {
        "id": "1roU2zvFRWbR"
      },
      "execution_count": null,
      "outputs": []
    },
    {
      "cell_type": "markdown",
      "source": [
        "7. **Drink Selector:**\n",
        "    - Ask the user for their age.\n",
        "    - If they are under 18, suggest a non-alcoholic drink (like juice or soda). If they are 18 and above, suggest an alcoholic beverage (like wine or beer)."
      ],
      "metadata": {
        "id": "WXtyKwyYRWzS"
      }
    },
    {
      "cell_type": "code",
      "source": [
        "age = int(input(\"How old are you? \"))\n",
        "if age < 18:\n",
        "  print(\"I would recommend a non-alcoholic drink, like juice or soda.\")\n",
        "else:\n",
        "  print(\"I would recommend an alcoholic beverage, like wine or beer.\")"
      ],
      "metadata": {
        "id": "iG4YUGa5RXeM",
        "outputId": "0a69a0ee-d0da-4cc0-c4de-238d24034402",
        "colab": {
          "base_uri": "https://localhost:8080/"
        }
      },
      "execution_count": 12,
      "outputs": [
        {
          "output_type": "stream",
          "name": "stdout",
          "text": [
            "How old are you? 65\n",
            "I would recommend an alcoholic beverage, like wine or beer.\n"
          ]
        }
      ]
    }
  ]
}