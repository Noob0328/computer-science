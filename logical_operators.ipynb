{
  "nbformat": 4,
  "nbformat_minor": 0,
  "metadata": {
    "colab": {
      "provenance": []
    },
    "kernelspec": {
      "name": "python3",
      "display_name": "Python 3"
    },
    "language_info": {
      "name": "python"
    }
  },
  "cells": [
    {
      "cell_type": "markdown",
      "source": [
        "\n",
        "### **Logical Operators**\n",
        "\n",
        "Logical operators are used to combine conditional statements.\n",
        "\n",
        "**1. `and` Operator:**\n",
        "- Returns `True` if both statements are true.\n",
        "  \n",
        "  **Example:**\n",
        "  ```python\n",
        "  age = 25\n",
        "  if age > 18 and age < 30:\n",
        "      print(\"You are a young adult.\")\n",
        "  ```\n",
        "\n",
        "**2. `or` Operator:**\n",
        "- Returns `True` if at least one of the statements is true.\n",
        "  \n",
        "  **Example:**\n",
        "  ```python\n",
        "  day = \"Sunday\"\n",
        "  if day == \"Saturday\" or day == \"Sunday\":\n",
        "      print(\"It's the weekend!\")\n",
        "  ```\n",
        "\n",
        "**3. `not` Operator:**\n",
        "- Used to reverse the result; returns `False` if the result is true and vice versa.\n",
        "  \n",
        "  **Example:**\n",
        "  ```python\n",
        "  is_raining = False\n",
        "  if not is_raining:\n",
        "      print(\"It's a sunny day!\")\n",
        "  ```\n",
        "\n",
        "---\n",
        "\n",
        "### **Nested Conditional Statements**\n",
        "\n",
        "Sometimes, you may want to evaluate a condition inside another condition. This is referred to as nesting.\n",
        "\n",
        "**Example:**\n",
        "```python\n",
        "age = 25\n",
        "gender = \"Female\"\n",
        "if age < 30:\n",
        "    if gender == \"Female\":\n",
        "        print(\"Young female.\")\n",
        "    else:\n",
        "        print(\"Young male.\")\n",
        "else:\n",
        "    if gender == \"Female\":\n",
        "        print(\"Mature female.\")\n",
        "    else:\n",
        "        print(\"Mature male.\")\n",
        "```\n",
        "\n",
        "In the example above, the outer `if` checks the age, and the inner `if` checks the gender, leading to more precise classifications.\n",
        "\n"
      ],
      "metadata": {
        "id": "_J_0H623DMoG"
      }
    },
    {
      "cell_type": "code",
      "source": [
        "#Test the examples above here"
      ],
      "metadata": {
        "id": "1tzurxbLDYuS"
      },
      "execution_count": null,
      "outputs": []
    },
    {
      "cell_type": "markdown",
      "source": [
        "### **Practice Exercises:**\n",
        "\n",
        "1. **Temperature Alert:**\n",
        "   - Ask the user for the current temperature and if it's raining (yes/no).\n",
        "   - If it's above 30°C and not raining, suggest wearing sunscreen. If it's below 30°C and raining, suggest taking an umbrella.\n",
        "\n",
        "\n",
        "\n"
      ],
      "metadata": {
        "id": "_2pb9LXWDcXE"
      }
    },
    {
      "cell_type": "code",
      "source": [
        "#Ex1\n",
        "temperature = float(input(\"What is the current temperature in Fahrenheit?\"))\n",
        "raining = input(\"Is it raining? (yes/no) \") == \"yes\"\n",
        "if temperature > 30 and not raining:\n",
        "  print(\"It's hot outside! Wear sunscreen.\")\n",
        "elif temperature <= 30 and raining:\n",
        "  print(\"Take an umbrella.\")\n"
      ],
      "metadata": {
        "id": "AyCFWr2cDiuz",
        "outputId": "4e9c24ff-503a-4420-e44f-c4996b299950",
        "colab": {
          "base_uri": "https://localhost:8080/"
        }
      },
      "execution_count": 1,
      "outputs": [
        {
          "output_type": "stream",
          "name": "stdout",
          "text": [
            "What is the current temperature in Fahrenheit?40\n",
            "Is it raining? (yes/no) no\n",
            "It's hot outside! Wear sunscreen.\n"
          ]
        }
      ]
    },
    {
      "cell_type": "markdown",
      "source": [
        "2. **Movie Night:**\n",
        "   - Ask the user if they like action movies and if they like romantic movies.\n",
        "   - Recommend a movie based on their preferences:\n",
        "     - Action and romance: \"Mr. & Mrs. Smith\",\n",
        "     - Only action: \"Die Hard\",\n",
        "     - Only romance: \"Pride and Prejudice\",\n",
        "     - Neither: \"Try watching a documentary!\"\n",
        "\n"
      ],
      "metadata": {
        "id": "hne5hxgMDj0i"
      }
    },
    {
      "cell_type": "code",
      "source": [
        "#Ex2\n",
        "action = input(\"Do you like action movies? (yes/no) \") == \"yes\"\n",
        "romance = input(\"Do you like romantic movies? (yes/no) \") == \"yes\"\n",
        "if action and romance:\n",
        "  print(\"Mr. & Mrs. Smith\")\n",
        "elif action and not romance:\n",
        "  print(\"Die Hard\")\n",
        "elif not action and romance:\n",
        "  print(\"Pride and Prejudice\")\n",
        "else:\n",
        "  print(\"Try watching a documentary!\")"
      ],
      "metadata": {
        "id": "m13PVPajDlwd"
      },
      "execution_count": null,
      "outputs": []
    },
    {
      "cell_type": "markdown",
      "source": [
        "3. **Eligibility for a Credit Card:**\n",
        "   - Ask the user for their age and monthly salary.\n",
        "   - If they are over 18 and earn more than $1,000 per month, inform them they are eligible for a credit card.\n"
      ],
      "metadata": {
        "id": "2DUNWDlsDmzl"
      }
    },
    {
      "cell_type": "code",
      "source": [
        "#Ex3\n",
        "age = int(input(\"How old are you?\"))\n",
        "salary = float(input(\"What is your monthly salary?\"))\n",
        "if age > 18 and salary > 1000:\n",
        "  print(\"You are eligible for a credit card.\")\n",
        "else:\n",
        "  print(\"You are not eligible for a credit card.\")\n",
        "​\n"
      ],
      "metadata": {
        "id": "KiuF2ByZDoZG"
      },
      "execution_count": null,
      "outputs": []
    },
    {
      "cell_type": "markdown",
      "source": [
        "\n",
        "4. **Nested Age Bracket Classifier:**\n",
        "   - Ask the user for their age and gender.\n",
        "   - Classify them into 'Young/Mature Male/Female' using nested conditional statements.\n"
      ],
      "metadata": {
        "id": "0p0RmJMKDpdG"
      }
    },
    {
      "cell_type": "code",
      "source": [
        "#Ex4\n",
        "age = int(input(\"How old are you?\"))\n",
        "gender = input(\"What is your gender? (male/female) \")\n",
        "if age < 18:\n",
        "  print(\"Young\")\n",
        "else:\n",
        "  if gender == \"male\":\n",
        "    print(\"Mature Male\")\n",
        "  else:\n",
        "    print(\"Mature Female\")\n"
      ],
      "metadata": {
        "id": "QSi5-aToDrnK",
        "outputId": "036b7bbd-3bcc-459b-c10c-e153febe556a",
        "colab": {
          "base_uri": "https://localhost:8080/"
        }
      },
      "execution_count": 2,
      "outputs": [
        {
          "output_type": "stream",
          "name": "stdout",
          "text": [
            "How old are you?15\n",
            "What is your gender? (male/female) male\n",
            "Young\n"
          ]
        }
      ]
    },
    {
      "cell_type": "markdown",
      "source": [
        "\n",
        "5. **Weekend Activity Planner:**\n",
        "   - Ask the user if it's a weekend and if the weather is good.\n",
        "   - Provide activity suggestions based on their answers:\n",
        "     - Weekend and good weather: \"Go for a picnic!\",\n",
        "     - Weekend and bad weather: \"Maybe watch a movie at home?\",\n",
        "     - Weekday and good weather: \"Don't forget your sunglasses on your way to work!\",\n",
        "     - Weekday and bad weather: \"Take an umbrella today.\""
      ],
      "metadata": {
        "id": "tyG7h84BDsrX"
      }
    },
    {
      "cell_type": "code",
      "source": [
        "#Ex5\n",
        "is_weekend = input(\"Is it the weekend? (yes/no) \") == \"yes\"\n",
        "is_good_weather = input(\"Is the weather good? (yes/no) \") == \"yes\"\n",
        "if is_weekend and is_good_weather:\n",
        "  print(\"Go for a picnic!\")\n",
        "elif is_weekend and not is_good_weather:\n",
        "  print(\"Maybe watch a movie at home?\")\n",
        "elif not is_weekend and is_good_weather:\n",
        "  print(\"Don't forget your sunglasses on your way to work!\")\n",
        "else:\n",
        "  print(\"Take an umbrella today.\")\n"
      ],
      "metadata": {
        "id": "7q-ze3tCDtgQ"
      },
      "execution_count": null,
      "outputs": []
    }
  ]
}