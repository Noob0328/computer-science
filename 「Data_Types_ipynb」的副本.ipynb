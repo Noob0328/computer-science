{
  "nbformat": 4,
  "nbformat_minor": 0,
  "metadata": {
    "colab": {
      "provenance": []
    },
    "kernelspec": {
      "name": "python3",
      "display_name": "Python 3"
    },
    "language_info": {
      "name": "python"
    }
  },
  "cells": [
    {
      "cell_type": "markdown",
      "source": [
        "\n",
        "### **Data Types Introduction**\n",
        "\n",
        "- **What are Data Types?**\n",
        "    - In computer science, a data type is a classification that specifies which type of value a variable can hold. Think of it as a label for the kind of data (e.g., numbers, texts, true/false values) we're dealing with.\n",
        "    - For instance, if we label something as a 'text' type, it means the variable will hold textual information like names, addresses, etc.\n",
        "\n",
        "#### **Why Do We Need Different Data Types?**\n",
        "1. **Efficiency:** Different data types use different amounts of memory. By choosing the right data type, we ensure our programs run efficiently.\n",
        "2. **Precision:** Some tasks require precision. For instance, financial calculations might need decimal values instead of whole numbers.\n",
        "3. **Clarity:** Using the right data type makes the code more readable and understandable.\n",
        "4. **Error Prevention:** Certain operations are only valid for specific data types. Having the right type can prevent errors. For example, you wouldn't want to accidentally add someone's name to their age.\n",
        "\n",
        "---\n",
        "\n",
        "### **Integers and Floats**\n",
        "\n",
        "#### **Definition and Examples of Integers and Floats**\n",
        "- **Integers:**\n",
        "    - These are whole numbers that can be positive, negative, or zero. They do not have decimal points.\n",
        "    - Examples: -3, -2, -1, 0, 1, 2, 3, ...\n",
        "- **Floats:**\n",
        "    - Also known as floating-point numbers, these are numbers that have a decimal point.\n",
        "    - They can represent real numbers (both rational and irrational numbers).\n",
        "    - Examples: -3.5, 0.0, 2.71, 3.14, ...\n",
        "\n",
        "#### **The Difference Between the Two**\n",
        "1. **Representation:** Integers are whole numbers without a decimal point, while floats have a decimal point.\n",
        "2. **Memory:** Floats typically require more memory than integers due to the precision they carry.\n",
        "3. **Operations:** Some operations might yield different results. For instance, dividing two integers might truncate the result, whereas dividing two floats will retain the decimal portion.\n",
        "\n",
        "#### **Practice: Create Variables of Integer and Float Types and Perform Basic Arithmetic Operations**\n",
        "1. **Creating Variables:**\n",
        "```python\n",
        "int_variable = 5\n",
        "float_variable = 5.5\n",
        "```\n",
        "2. **Arithmetic Operations:**\n",
        "    - **Addition:** `int_variable + 3` will result in `8`, but `float_variable + 3` will result in `8.5`.\n",
        "    - **Division:** `int_variable / 2` might differ in some languages in its result compared to `float_variable / 2`. In Python 3, both will return a float, but in some languages, integer division truncates the result.\n",
        "    - **Multiplication:** `int_variable * 2` will result in `10`, and `float_variable * 2` will result in `11.0`.\n",
        "\n",
        "3. **Experimentation:** Create your own integer and float variables and experiment with various arithmetic operations to observe the outcomes.\n",
        "\n",
        "---\n"
      ],
      "metadata": {
        "id": "LBu00G47APLR"
      }
    },
    {
      "cell_type": "code",
      "source": [
        "#Experiment with integers and floats in this cell\n",
        "\n",
        "\n"
      ],
      "metadata": {
        "id": "LCcqz0c-EMxq"
      },
      "execution_count": null,
      "outputs": []
    },
    {
      "cell_type": "markdown",
      "source": [
        "**1. Coffee Shop Calculator**\n",
        "   \n",
        "**Objective:** Calculate the total cost of items ordered at a coffee shop.\n",
        "\n",
        "- **Instructions:**\n",
        "   - Imagine you're visiting your favorite coffee shop.\n",
        "   - Use the `input()` function to ask the user to specify the number of espressos, lattes, and muffins they'd like to \"buy\". Convert these to integer values.\n",
        "   - Similarly, take user input for the prices of each item and convert these to float values.\n",
        "   - Write a program to calculate and display the total cost.\n",
        "\n",
        "---"
      ],
      "metadata": {
        "id": "bBnOPo9OEAEW"
      }
    },
    {
      "cell_type": "code",
      "source": [
        "from __future__ import print_function\n",
        "#Your code for exercise 1 in here\n",
        "num_espressos=int(input(\"Enter the number of espressos you'd like to buy: \"))\n",
        "num_lattes=int(input(\"Enter the number of lattes you'd like to buy: \"))\n",
        "num_muffins=int(input(\"Enter the number of muffins you'd like to buy: \"))\n",
        "\n",
        "price_espresso=float(input(\"Enter the price of an espresso: \"))\n",
        "price_lattes=float(input(\"Enter the price of an lattes: \"))\n",
        "price_muffins=float(input(\"Enter the price of an muffins: \"))\n",
        "\n",
        "total_cost = (num_espressos * price_espresso) + (num_lattes * price_lattes) + (num_muffins * price_muffins)\n",
        "print(\"Total cost\", total_cost)\n",
        "\n"
      ],
      "metadata": {
        "id": "ymdlxypHEeHA",
        "outputId": "d115a5f5-3525-4fb7-8aec-acd314ac4a02",
        "colab": {
          "base_uri": "https://localhost:8080/"
        }
      },
      "execution_count": null,
      "outputs": [
        {
          "output_type": "stream",
          "name": "stdout",
          "text": [
            "Enter the number of espressos you'd like to buy: 1\n",
            "Enter the number of lattes you'd like to buy: 1\n",
            "Enter the number of muffins you'd like to buy: 1\n",
            "Enter the price of an espresso: 1\n",
            "Enter the price of an lattes: 1\n",
            "Enter the price of an muffins: 1\n",
            "Total cost 3.0\n"
          ]
        }
      ]
    },
    {
      "cell_type": "markdown",
      "source": [
        "**2. Rocket Launch Countdown**\n",
        "   \n",
        "**Objective:** Simulate a rocket launch countdown.\n",
        "\n",
        "- **Instructions:**\n",
        "   - Use the `input()` function to ask the user for a starting countdown number and convert it to an integer.\n",
        "   - Write a loop that subtracts 1 from the variable and prints the current countdown number each iteration.\n",
        "   - Add a delay (using time.sleep in Python) of 0.5 seconds between each countdown number.\n",
        "\n",
        "---\n"
      ],
      "metadata": {
        "id": "5cn16bvxEiz5"
      }
    },
    {
      "cell_type": "code",
      "source": [
        "#Your code for exercise 2 in here\n",
        "import time\n",
        "\n",
        "timer = input(\"How many second you want to get \")\n",
        "print (\"Timer has set\", timer)\n",
        "timer = int(timer)\n",
        "time.sleep(1)\n",
        "print(\"Timer has startet\")\n",
        "for remaining_time in range(timer, 0, -1):\n",
        "    print(\"Time remaining:\", remaining_time, \"seconds\")\n",
        "    time.sleep(1)\n",
        "print(\"Time's up!\")"
      ],
      "metadata": {
        "id": "ys1WJFJWEncP",
        "outputId": "35e47810-7e2c-422f-e929-f588537b9b4e",
        "colab": {
          "base_uri": "https://localhost:8080/"
        }
      },
      "execution_count": 5,
      "outputs": [
        {
          "output_type": "stream",
          "name": "stdout",
          "text": [
            "How many second you want to get 1\n",
            "Timer has set 1\n",
            "Timer has startet\n",
            "Time remaining: 1 seconds\n",
            "Time's up!\n"
          ]
        }
      ]
    },
    {
      "cell_type": "markdown",
      "source": [
        "**3. Your Weight on Other Planets**\n",
        "   \n",
        "**Objective:** Find out how much you'd weigh on different planets based on their gravity.\n",
        "\n",
        "- **Instructions:**\n",
        "   - Use the `input()` function to ask the user for their weight on Earth and convert this to a float.\n",
        "   - Create float variables for the gravity factor of different planets (e.g., Mars is about 0.38 of Earth's gravity).\n",
        "   - Calculate and display how much they'd weigh on each of these planets.\n",
        "\n",
        "---"
      ],
      "metadata": {
        "id": "_4CLsHIKEsGa"
      }
    },
    {
      "cell_type": "code",
      "source": [
        "#Exercise 3\n",
        "weight_erth=float(input(\"How much do you weigh?\"))\n",
        "gravity_mars = 0.40\n",
        "gravity_venus = 0.90\n",
        "gravity_jupiter = 2.3\n"
      ],
      "metadata": {
        "id": "2CGVY3iiEvR9"
      },
      "execution_count": null,
      "outputs": []
    },
    {
      "cell_type": "markdown",
      "source": [
        "**4. Pizza Party Calculator**\n",
        "   \n",
        "**Objective:** Calculate the cost per slice of pizza.\n",
        "\n",
        "- **Instructions:**\n",
        "   - Use the `input()` function to ask the user how many pizzas they bought and the total cost. Convert these values appropriately (integer for number of pizzas, float for cost).\n",
        "   - Ask the user to specify how many slices each pizza has and convert this to an integer.\n",
        "   - Calculate and display the cost per slice.\n",
        "\n",
        "---"
      ],
      "metadata": {
        "id": "iSGrrgiNExxp"
      }
    },
    {
      "cell_type": "code",
      "source": [
        "#Exercise 4\n",
        "\n",
        "\n"
      ],
      "metadata": {
        "id": "QFiXisVwE0ZR"
      },
      "execution_count": null,
      "outputs": []
    },
    {
      "cell_type": "markdown",
      "source": [
        "\n",
        "**5. Travel Budget Calculator**\n",
        "   \n",
        "**Objective:** Calculate the total budget required for a trip.\n",
        "\n",
        "- **Instructions:**\n",
        "   - Imagine you're planning a trip to your dream destination.\n",
        "   - Use the `input()` function to ask the user for the number of days they plan to stay and convert this to an integer.\n",
        "   - Ask the user to specify the estimated daily expenses for food, accommodation, and sightseeing. Convert these to float values.\n",
        "   - Write a program to calculate and display the total estimated cost for the trip.\n",
        "\n",
        "---"
      ],
      "metadata": {
        "id": "bgTECsKHE3CF"
      }
    },
    {
      "cell_type": "code",
      "source": [
        "#Exercise 5\n",
        "\n",
        "\n"
      ],
      "metadata": {
        "id": "sT4Q-aYuE4jM"
      },
      "execution_count": null,
      "outputs": []
    }
  ]
}