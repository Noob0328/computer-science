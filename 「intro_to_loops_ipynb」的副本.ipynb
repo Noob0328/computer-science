{
  "nbformat": 4,
  "nbformat_minor": 0,
  "metadata": {
    "colab": {
      "provenance": []
    },
    "kernelspec": {
      "name": "python3",
      "display_name": "Python 3"
    },
    "language_info": {
      "name": "python"
    }
  },
  "cells": [
    {
      "cell_type": "markdown",
      "source": [
        "\n",
        "### **Introduction to Loops**\n",
        "\n",
        "In programming, loops offer a way to perform a set of instructions repeatedly. They are fundamental for tasks that require the same action to be taken on a series of items, or for actions to be repeated until a certain condition is met.\n",
        "\n",
        "---\n",
        "\n",
        "### **Understanding the `while` Loop and its Applications**\n",
        "\n",
        "The `while` loop executes a block of code as long as a specified condition remains `True`.\n",
        "\n",
        "**Basic Syntax:**\n",
        "```python\n",
        "while condition:\n",
        "    # body of the loop\n",
        "```\n",
        "\n",
        "**Example:**\n",
        "```python\n",
        "count = 0\n",
        "while count < 5:\n",
        "    print(count)\n",
        "    count += 1\n",
        "```\n",
        "\n",
        "In the above example, the loop will print numbers from 0 to 4. The loop continues as long as `count` is less than 5.\n",
        "\n",
        "**Applications:**\n",
        "1. **Repeating an action** until a user decides to quit.\n",
        "2. **Waiting for an external condition** to change (e.g., waiting for user input).\n",
        "3. **Polling:** Checking repeatedly if a resource is available or a task is completed.\n",
        "\n",
        "---\n",
        "\n",
        "### **Creating Counters and Accumulators**\n",
        "\n",
        "**1. Counters:**\n",
        "A counter is a variable that is incremented or decremented with each iteration of a loop.\n",
        "\n",
        "**Example:**\n",
        "```python\n",
        "# Counting how many times a loop runs\n",
        "count = 0\n",
        "while count < 10:\n",
        "    print(\"Loop iteration:\", count)\n",
        "    count += 1\n",
        "```\n",
        "\n",
        "**2. Accumulators:**\n",
        "An accumulator is a variable that collects or accumulates a value over time within a loop.\n",
        "\n",
        "**Example:**\n",
        "```python\n",
        "# Summing numbers from 1 to 5\n",
        "total = 0\n",
        "number = 1\n",
        "while number <= 5:\n",
        "    total += number\n",
        "    number += 1\n",
        "print(\"Total sum:\", total)\n",
        "```\n",
        "\n",
        "In the above example, `total` is an accumulator that collects the sum of numbers from 1 to 5.\n",
        "\n",
        "\n"
      ],
      "metadata": {
        "id": "a2Db_gg2H9l2"
      }
    },
    {
      "cell_type": "code",
      "source": [
        "#Play around with the examples in this cell"
      ],
      "metadata": {
        "id": "ixvEg1OJI0vm"
      },
      "execution_count": null,
      "outputs": []
    },
    {
      "cell_type": "markdown",
      "source": [
        "---\n",
        "\n",
        "### **Practice Exercises:**\n",
        "\n",
        "1. **Positive Number Collector:** Ask the user to keep entering numbers. Stop when they enter a negative number and display the sum of all positive numbers entered.\n"
      ],
      "metadata": {
        "id": "icvXf-Q8I4tF"
      }
    },
    {
      "cell_type": "code",
      "source": [
        "#Ex1\n",
        "sum_positive = 0\n",
        "\n",
        "while True:\n",
        "    number = float(input(\"Enter a number (enter a negative number to stop): \"))\n",
        "\n",
        "    if number < 0:\n",
        "        break\n",
        "\n",
        "    if number > 0:\n",
        "        sum_positive += number\n",
        "\n",
        "print(\"Sum of positive numbers entered:\", sum_positive)\n"
      ],
      "metadata": {
        "id": "HWqs6QFuI6Pd",
        "outputId": "2fea6091-58fb-4413-91db-a63fc4fd030f",
        "colab": {
          "base_uri": "https://localhost:8080/"
        }
      },
      "execution_count": null,
      "outputs": [
        {
          "output_type": "stream",
          "name": "stdout",
          "text": [
            "Enter a number (enter a negative number to stop): 1000\n",
            "Enter a number (enter a negative number to stop): 100\n",
            "Enter a number (enter a negative number to stop): 10\n",
            "Enter a number (enter a negative number to stop): -10\n",
            "Sum of positive numbers entered: 1110.0\n"
          ]
        }
      ]
    },
    {
      "cell_type": "markdown",
      "source": [
        "2. **Guessing Game:** Think of a number between 1 and 10. Allow the user to guess until they get the right number.\n"
      ],
      "metadata": {
        "id": "-_u-1EvmI8Dj"
      }
    },
    {
      "cell_type": "code",
      "source": [
        "#Ex2\n",
        "import random\n",
        "\n",
        "target_number = random.randint(1, 10)\n",
        "user_guess = None\n",
        "\n",
        "while user_guess != target_number:\n",
        "    user_guess = int(input(\"Guess a number between 1 and 10: \"))\n",
        "    if user_guess < target_number:\n",
        "        print(\"Too low! Try again.\")\n",
        "    elif user_guess > target_number:\n",
        "        print(\"Too high! Try again.\")\n",
        "    else:\n",
        "        print(\"Congratulations! You guessed the right number:\", target_number)"
      ],
      "metadata": {
        "id": "pmd2ui8UI9nI",
        "outputId": "bd258df0-7ce4-49f5-942c-32989d748699",
        "colab": {
          "base_uri": "https://localhost:8080/"
        }
      },
      "execution_count": null,
      "outputs": [
        {
          "output_type": "stream",
          "name": "stdout",
          "text": [
            "Guess a number between 1 and 10: 6\n",
            "Too high! Try again.\n",
            "Guess a number between 1 and 10: 4\n",
            "Too high! Try again.\n",
            "Guess a number between 1 and 10: 6\n",
            "Too high! Try again.\n",
            "Guess a number between 1 and 10: 2\n",
            "Too low! Try again.\n",
            "Guess a number between 1 and 10: 3\n",
            "Congratulations! You guessed the right number: 3\n"
          ]
        }
      ]
    },
    {
      "cell_type": "markdown",
      "source": [
        "3. **Exponential Growth:** Given a number, keep multiplying it by 2 until it exceeds 1000. Count how many multiplications were needed.\n"
      ],
      "metadata": {
        "id": "sMHpPBRQI_Kh"
      }
    },
    {
      "cell_type": "code",
      "source": [
        "#Ex3\n",
        "number = int(input(\"Enter the number: \"))\n",
        "count = 0\n",
        "\n",
        "while number <= 1000:\n",
        "    number *= 2\n",
        "    count += 1\n",
        "\n",
        "print(\"The number reached:\", number)\n",
        "print(\"Number of multiplications:\", count)"
      ],
      "metadata": {
        "id": "5ueHSVhEJA5S",
        "outputId": "d7ac0daf-714e-4f12-b8bf-1feca0364e74",
        "colab": {
          "base_uri": "https://localhost:8080/"
        }
      },
      "execution_count": null,
      "outputs": [
        {
          "output_type": "stream",
          "name": "stdout",
          "text": [
            "Enter the number: 457\n",
            "The number reached: 1828\n",
            "Number of multiplications: 2\n"
          ]
        }
      ]
    },
    {
      "cell_type": "markdown",
      "source": [
        "4. **Password Retry:** Allow a user 3 attempts to enter a correct password.\n"
      ],
      "metadata": {
        "id": "R37qmrpgJCZY"
      }
    },
    {
      "cell_type": "code",
      "source": [
        "#Ex4\n",
        "password = \"?\"\n",
        "attempts = 3\n",
        "\n",
        "while attempts > 0:\n",
        "    user_input = input(\"Enter the password: \")\n",
        "\n",
        "    if user_input == password:\n",
        "        print(\"Access granted. Welcome!\")\n",
        "        break\n",
        "    else:\n",
        "        attempts -= 1\n",
        "        print(\"Incorrect password. You have\", attempts, \"attempts left.\")\n",
        "\n",
        "if attempts == 0:\n",
        "    print(\"Access denied. You've used all your attempts.\")"
      ],
      "metadata": {
        "id": "-mVz_khOJDt3"
      },
      "execution_count": null,
      "outputs": []
    },
    {
      "cell_type": "markdown",
      "source": [
        "5. **Interest Calculator:** If you invest $100 at a 5% annual interest rate, how many years will it take for the money to double using compound interest?\n"
      ],
      "metadata": {
        "id": "xE9VCCIPJEtP"
      }
    },
    {
      "cell_type": "code",
      "source": [
        "#Ex5\n",
        "import math\n",
        "\n",
        "principal = 100\n",
        "annual_interest_rate = 0.05\n",
        "\n",
        "\n",
        "\n"
      ],
      "metadata": {
        "id": "_muBoRqzJGB3",
        "colab": {
          "base_uri": "https://localhost:8080/",
          "height": 254
        },
        "outputId": "ca3299d8-53fd-4f93-ab21-0c9714f3b5c7"
      },
      "execution_count": 2,
      "outputs": [
        {
          "output_type": "error",
          "ename": "NameError",
          "evalue": "ignored",
          "traceback": [
            "\u001b[0;31m---------------------------------------------------------------------------\u001b[0m",
            "\u001b[0;31mNameError\u001b[0m                                 Traceback (most recent call last)",
            "\u001b[0;32m<ipython-input-2-003b5cd1819d>\u001b[0m in \u001b[0;36m<cell line: 5>\u001b[0;34m()\u001b[0m\n\u001b[1;32m      3\u001b[0m \u001b[0mannual_interest_rate\u001b[0m \u001b[0;34m=\u001b[0m \u001b[0;36m0.05\u001b[0m\u001b[0;34m\u001b[0m\u001b[0;34m\u001b[0m\u001b[0m\n\u001b[1;32m      4\u001b[0m \u001b[0;34m\u001b[0m\u001b[0m\n\u001b[0;32m----> 5\u001b[0;31m \u001b[0mtime_to_double\u001b[0m \u001b[0;34m=\u001b[0m \u001b[0mmath\u001b[0m\u001b[0;34m.\u001b[0m\u001b[0mlog\u001b[0m\u001b[0;34m(\u001b[0m\u001b[0;36m2\u001b[0m\u001b[0;34m)\u001b[0m \u001b[0;34m/\u001b[0m \u001b[0mmath\u001b[0m\u001b[0;34m.\u001b[0m\u001b[0mlog\u001b[0m\u001b[0;34m(\u001b[0m\u001b[0;36m1\u001b[0m \u001b[0;34m+\u001b[0m \u001b[0mannual_interest_rate\u001b[0m\u001b[0;34m)\u001b[0m\u001b[0;34m\u001b[0m\u001b[0;34m\u001b[0m\u001b[0m\n\u001b[0m\u001b[1;32m      6\u001b[0m \u001b[0myears\u001b[0m \u001b[0;34m=\u001b[0m \u001b[0mround\u001b[0m\u001b[0;34m(\u001b[0m\u001b[0mtime_to_double\u001b[0m\u001b[0;34m,\u001b[0m \u001b[0;36m2\u001b[0m\u001b[0;34m)\u001b[0m\u001b[0;34m\u001b[0m\u001b[0;34m\u001b[0m\u001b[0m\n\u001b[1;32m      7\u001b[0m \u001b[0;34m\u001b[0m\u001b[0m\n",
            "\u001b[0;31mNameError\u001b[0m: name 'math' is not defined"
          ]
        }
      ]
    },
    {
      "cell_type": "markdown",
      "source": [
        "6. **Number of Divisors:** For a given number, find out how many divisors it has.\n"
      ],
      "metadata": {
        "id": "UGn7LFPyJHUi"
      }
    },
    {
      "cell_type": "code",
      "source": [
        "#Ex6\n",
        "def count_divisors(number):\n",
        "    count = 0\n",
        "\n",
        "    for i in range(1, number + 1):\n",
        "        if number % i == 0:\n",
        "            count += 1\n",
        "\n",
        "    return count\n",
        "\n",
        "number = 24\n",
        "divisor_count = count_divisors(number)\n",
        "print(\"The number\", number, \"has\", divisor_count, \"divisors.\")\n",
        "\n",
        "\n",
        "\n"
      ],
      "metadata": {
        "id": "50u_gFOuJJBB",
        "outputId": "afad6342-13c2-44fe-84db-e3a61ea8bbd3",
        "colab": {
          "base_uri": "https://localhost:8080/"
        }
      },
      "execution_count": 3,
      "outputs": [
        {
          "output_type": "stream",
          "name": "stdout",
          "text": [
            "The number 24 has 8 divisors.\n"
          ]
        }
      ]
    },
    {
      "cell_type": "markdown",
      "source": [
        "7. **User Input Collector:** Keep asking the user for input until they type \"exit\" or \"quit\".\n"
      ],
      "metadata": {
        "id": "LAoVS7NyJLDl"
      }
    },
    {
      "cell_type": "code",
      "source": [
        "#Ex7\n",
        "while True :\n",
        "    user_input = input(\"Type 'exit' or 'quit' to stop: \")\n",
        "\n",
        "    if user_input.lower() == \"exit\" or user_input.lower() == \"quit\":\n",
        "        print(\"Exiting the program.\")\n",
        "        break"
      ],
      "metadata": {
        "id": "51EYMHtzJMVE",
        "outputId": "b6270e9c-1bf3-4c99-9f01-f6d12ff709f4",
        "colab": {
          "base_uri": "https://localhost:8080/"
        }
      },
      "execution_count": null,
      "outputs": [
        {
          "output_type": "stream",
          "name": "stdout",
          "text": [
            "Type 'exit' or 'quit' to stop: quit\n",
            "Exiting the program.\n"
          ]
        }
      ]
    },
    {
      "cell_type": "markdown",
      "source": [
        "8. **Factorial Calculator:** Calculate the factorial of a number using a loop.\n"
      ],
      "metadata": {
        "id": "-Bmx7J87JOFD"
      }
    },
    {
      "cell_type": "code",
      "source": [
        "#Ex8\n",
        "def factorial(n):\n",
        "    product = 1\n",
        "\n",
        "    for i in range(1, n + 1):\n",
        "        product *= i\n",
        "\n",
        "    return product\n",
        "number = 5\n",
        "fact = factorial(number)\n",
        "print(\"The factorial of\", number, \"is\", fact)"
      ],
      "metadata": {
        "id": "i_Ai-9CpJPf3",
        "colab": {
          "base_uri": "https://localhost:8080/"
        },
        "outputId": "a8eadbbd-b143-46d6-859a-2a87cecf4d9b"
      },
      "execution_count": 2,
      "outputs": [
        {
          "output_type": "stream",
          "name": "stdout",
          "text": [
            "The factorial of 5 is 120\n"
          ]
        }
      ]
    },
    {
      "cell_type": "markdown",
      "source": [
        "9. **Fibonacci Sequence:** Generate the first N numbers of the Fibonacci sequence.\n"
      ],
      "metadata": {
        "id": "DC6RN9NGJQpX"
      }
    },
    {
      "cell_type": "code",
      "source": [
        "#Ex9\n",
        "def fibonacci(n):\n",
        "    sequence = []\n",
        "    sequence.append(0)\n",
        "    if n > 1:\n",
        "        sequence.append(1)\n",
        "        for i in range(2, n):\n",
        "            sequence.append(sequence[i-1] + sequence[i-2])\n",
        "\n",
        "    return sequence\n",
        "\n",
        "N = 10\n",
        "\n",
        "fib_seq = fibonacci(N)\n",
        "print(\"The first\", N, \"numbers of the Fibonacci sequence are:\", fib_seq)"
      ],
      "metadata": {
        "id": "6RV7fRW9JR-b",
        "colab": {
          "base_uri": "https://localhost:8080/"
        },
        "outputId": "bccbefc8-4366-4352-9a2d-c3274add683b"
      },
      "execution_count": 10,
      "outputs": [
        {
          "output_type": "stream",
          "name": "stdout",
          "text": [
            "The first 10 numbers of the Fibonacci sequence are: [0, 1, 1, 2, 3, 5, 8, 13, 21, 34]\n"
          ]
        }
      ]
    },
    {
      "cell_type": "markdown",
      "source": [
        "10. **Decreasing Counter:** Start from 100 and count down by sevens. Stop if the number goes negative."
      ],
      "metadata": {
        "id": "dnX8zfHcJTXi"
      }
    },
    {
      "cell_type": "code",
      "source": [
        "#Ex10\n",
        "start_number = 100\n",
        "countdown = []\n",
        "\n",
        "while start_number >= 0:\n",
        "    countdown.append(start_number)\n",
        "    start_number -= 7\n",
        "print(countdown)"
      ],
      "metadata": {
        "id": "2bkZxvmIJUHN",
        "outputId": "750c30a1-1897-4d7b-b394-f0c9b8b8f1b9",
        "colab": {
          "base_uri": "https://localhost:8080/"
        }
      },
      "execution_count": null,
      "outputs": [
        {
          "output_type": "stream",
          "name": "stdout",
          "text": [
            "[100, 93, 86, 79, 72, 65, 58, 51, 44, 37, 30, 23, 16, 9, 2]\n"
          ]
        }
      ]
    }
  ]
}